{
 "cells": [
  {
   "cell_type": "markdown",
   "metadata": {},
   "source": [
    "## Import Libraries"
   ]
  },
  {
   "cell_type": "code",
   "execution_count": 1,
   "metadata": {},
   "outputs": [
    {
     "name": "stderr",
     "output_type": "stream",
     "text": [
      "Using TensorFlow backend.\n"
     ]
    }
   ],
   "source": [
    "import xgboost as xgb\n",
    "import pandas as pd\n",
    "import numpy as np\n",
    "import keras\n",
    "import seaborn as sns\n",
    "import matplotlib.pyplot as plt\n",
    "import os\n",
    "from imblearn.over_sampling import SMOTE\n",
    "from sklearn.preprocessing import StandardScaler\n",
    "from sklearn.model_selection import train_test_split\n",
    "import matplotlib.pyplot as plt\n",
    "from sklearn.metrics import confusion_matrix\n",
    "import itertools\n",
    "from sklearn.metrics import classification_report,roc_auc_score,average_precision_score\n",
    "%matplotlib inline\n",
    "np.random.seed(2)"
   ]
  },
  {
   "cell_type": "markdown",
   "metadata": {},
   "source": [
    "## Importing Data"
   ]
  },
  {
   "cell_type": "code",
   "execution_count": 2,
   "metadata": {},
   "outputs": [],
   "source": [
    "data=pd.read_excel('Hira_Final_Excel_30_Features.xlsx')"
   ]
  },
  {
   "cell_type": "code",
   "execution_count": 3,
   "metadata": {},
   "outputs": [
    {
     "data": {
      "text/html": [
       "<div>\n",
       "<style scoped>\n",
       "    .dataframe tbody tr th:only-of-type {\n",
       "        vertical-align: middle;\n",
       "    }\n",
       "\n",
       "    .dataframe tbody tr th {\n",
       "        vertical-align: top;\n",
       "    }\n",
       "\n",
       "    .dataframe thead th {\n",
       "        text-align: right;\n",
       "    }\n",
       "</style>\n",
       "<table border=\"1\" class=\"dataframe\">\n",
       "  <thead>\n",
       "    <tr style=\"text-align: right;\">\n",
       "      <th></th>\n",
       "      <th>Unnamed: 0</th>\n",
       "      <th>SwHBa</th>\n",
       "      <th>minHBd</th>\n",
       "      <th>MDEN-13</th>\n",
       "      <th>XLogP</th>\n",
       "      <th>MATS2s</th>\n",
       "      <th>GATS2s</th>\n",
       "      <th>GGI6</th>\n",
       "      <th>SpMax1_Bhs</th>\n",
       "      <th>GATS4m</th>\n",
       "      <th>...</th>\n",
       "      <th>minHssNH</th>\n",
       "      <th>SRW9</th>\n",
       "      <th>GATS3e</th>\n",
       "      <th>ASP-1</th>\n",
       "      <th>R_TpiPCTPC</th>\n",
       "      <th>GATS5c</th>\n",
       "      <th>AATS8m</th>\n",
       "      <th>GATS1c</th>\n",
       "      <th>GATS3s</th>\n",
       "      <th>CLASS</th>\n",
       "    </tr>\n",
       "  </thead>\n",
       "  <tbody>\n",
       "    <tr>\n",
       "      <th>0</th>\n",
       "      <td>0</td>\n",
       "      <td>-0.351249</td>\n",
       "      <td>-0.602163</td>\n",
       "      <td>-0.38591</td>\n",
       "      <td>-0.080868</td>\n",
       "      <td>-0.458866</td>\n",
       "      <td>-0.276488</td>\n",
       "      <td>-0.083801</td>\n",
       "      <td>0.281555</td>\n",
       "      <td>0.689056</td>\n",
       "      <td>...</td>\n",
       "      <td>-0.175906</td>\n",
       "      <td>-1.504694</td>\n",
       "      <td>-0.519184</td>\n",
       "      <td>0.277805</td>\n",
       "      <td>-0.347614</td>\n",
       "      <td>-0.600570</td>\n",
       "      <td>-0.072174</td>\n",
       "      <td>-0.368918</td>\n",
       "      <td>-0.386182</td>\n",
       "      <td>0</td>\n",
       "    </tr>\n",
       "    <tr>\n",
       "      <th>1</th>\n",
       "      <td>1</td>\n",
       "      <td>0.267557</td>\n",
       "      <td>-0.664901</td>\n",
       "      <td>-0.38591</td>\n",
       "      <td>-0.278347</td>\n",
       "      <td>-0.145311</td>\n",
       "      <td>-0.158102</td>\n",
       "      <td>-0.239339</td>\n",
       "      <td>-0.329995</td>\n",
       "      <td>0.743703</td>\n",
       "      <td>...</td>\n",
       "      <td>-0.217294</td>\n",
       "      <td>-1.504694</td>\n",
       "      <td>0.056759</td>\n",
       "      <td>0.726497</td>\n",
       "      <td>-0.348569</td>\n",
       "      <td>-0.141784</td>\n",
       "      <td>-0.167602</td>\n",
       "      <td>0.100444</td>\n",
       "      <td>0.161942</td>\n",
       "      <td>0</td>\n",
       "    </tr>\n",
       "    <tr>\n",
       "      <th>2</th>\n",
       "      <td>2</td>\n",
       "      <td>0.797947</td>\n",
       "      <td>-0.156930</td>\n",
       "      <td>-0.38591</td>\n",
       "      <td>0.800734</td>\n",
       "      <td>-0.107372</td>\n",
       "      <td>-0.469982</td>\n",
       "      <td>-0.780609</td>\n",
       "      <td>-0.364963</td>\n",
       "      <td>0.430726</td>\n",
       "      <td>...</td>\n",
       "      <td>0.117806</td>\n",
       "      <td>-1.504694</td>\n",
       "      <td>-0.270485</td>\n",
       "      <td>0.557216</td>\n",
       "      <td>-0.272658</td>\n",
       "      <td>1.581178</td>\n",
       "      <td>-0.353213</td>\n",
       "      <td>0.347286</td>\n",
       "      <td>0.110075</td>\n",
       "      <td>0</td>\n",
       "    </tr>\n",
       "    <tr>\n",
       "      <th>3</th>\n",
       "      <td>3</td>\n",
       "      <td>0.002126</td>\n",
       "      <td>-0.965972</td>\n",
       "      <td>-0.38591</td>\n",
       "      <td>-0.420579</td>\n",
       "      <td>-0.639170</td>\n",
       "      <td>0.622512</td>\n",
       "      <td>0.296402</td>\n",
       "      <td>0.292371</td>\n",
       "      <td>0.435166</td>\n",
       "      <td>...</td>\n",
       "      <td>-0.415906</td>\n",
       "      <td>0.826836</td>\n",
       "      <td>-0.558183</td>\n",
       "      <td>-0.110332</td>\n",
       "      <td>-0.595717</td>\n",
       "      <td>-0.127133</td>\n",
       "      <td>-0.337717</td>\n",
       "      <td>-0.505372</td>\n",
       "      <td>-0.342719</td>\n",
       "      <td>0</td>\n",
       "    </tr>\n",
       "    <tr>\n",
       "      <th>4</th>\n",
       "      <td>4</td>\n",
       "      <td>0.112239</td>\n",
       "      <td>-0.830326</td>\n",
       "      <td>-0.38591</td>\n",
       "      <td>-0.756176</td>\n",
       "      <td>-0.142033</td>\n",
       "      <td>0.295054</td>\n",
       "      <td>-0.320218</td>\n",
       "      <td>0.023826</td>\n",
       "      <td>0.679495</td>\n",
       "      <td>...</td>\n",
       "      <td>-0.326422</td>\n",
       "      <td>-1.504694</td>\n",
       "      <td>-0.653413</td>\n",
       "      <td>0.726497</td>\n",
       "      <td>-0.682845</td>\n",
       "      <td>0.226682</td>\n",
       "      <td>-0.563980</td>\n",
       "      <td>-0.463201</td>\n",
       "      <td>-0.715704</td>\n",
       "      <td>0</td>\n",
       "    </tr>\n",
       "  </tbody>\n",
       "</table>\n",
       "<p>5 rows × 32 columns</p>\n",
       "</div>"
      ],
      "text/plain": [
       "   Unnamed: 0     SwHBa    minHBd  MDEN-13     XLogP    MATS2s    GATS2s  \\\n",
       "0           0 -0.351249 -0.602163 -0.38591 -0.080868 -0.458866 -0.276488   \n",
       "1           1  0.267557 -0.664901 -0.38591 -0.278347 -0.145311 -0.158102   \n",
       "2           2  0.797947 -0.156930 -0.38591  0.800734 -0.107372 -0.469982   \n",
       "3           3  0.002126 -0.965972 -0.38591 -0.420579 -0.639170  0.622512   \n",
       "4           4  0.112239 -0.830326 -0.38591 -0.756176 -0.142033  0.295054   \n",
       "\n",
       "       GGI6  SpMax1_Bhs    GATS4m  ...  minHssNH      SRW9    GATS3e  \\\n",
       "0 -0.083801    0.281555  0.689056  ... -0.175906 -1.504694 -0.519184   \n",
       "1 -0.239339   -0.329995  0.743703  ... -0.217294 -1.504694  0.056759   \n",
       "2 -0.780609   -0.364963  0.430726  ...  0.117806 -1.504694 -0.270485   \n",
       "3  0.296402    0.292371  0.435166  ... -0.415906  0.826836 -0.558183   \n",
       "4 -0.320218    0.023826  0.679495  ... -0.326422 -1.504694 -0.653413   \n",
       "\n",
       "      ASP-1  R_TpiPCTPC    GATS5c    AATS8m    GATS1c    GATS3s  CLASS  \n",
       "0  0.277805   -0.347614 -0.600570 -0.072174 -0.368918 -0.386182      0  \n",
       "1  0.726497   -0.348569 -0.141784 -0.167602  0.100444  0.161942      0  \n",
       "2  0.557216   -0.272658  1.581178 -0.353213  0.347286  0.110075      0  \n",
       "3 -0.110332   -0.595717 -0.127133 -0.337717 -0.505372 -0.342719      0  \n",
       "4  0.726497   -0.682845  0.226682 -0.563980 -0.463201 -0.715704      0  \n",
       "\n",
       "[5 rows x 32 columns]"
      ]
     },
     "execution_count": 3,
     "metadata": {},
     "output_type": "execute_result"
    }
   ],
   "source": [
    "data.head()"
   ]
  },
  {
   "cell_type": "code",
   "execution_count": 4,
   "metadata": {},
   "outputs": [],
   "source": [
    "data = data.drop('Unnamed: 0' , axis=1)\n",
    "X=data.iloc[:,data.columns!='CLASS']\n",
    "y=data.iloc[:,data.columns=='CLASS']\n",
    "col = X.columns"
   ]
  },
  {
   "cell_type": "code",
   "execution_count": 5,
   "metadata": {},
   "outputs": [
    {
     "data": {
      "text/html": [
       "<div>\n",
       "<style scoped>\n",
       "    .dataframe tbody tr th:only-of-type {\n",
       "        vertical-align: middle;\n",
       "    }\n",
       "\n",
       "    .dataframe tbody tr th {\n",
       "        vertical-align: top;\n",
       "    }\n",
       "\n",
       "    .dataframe thead th {\n",
       "        text-align: right;\n",
       "    }\n",
       "</style>\n",
       "<table border=\"1\" class=\"dataframe\">\n",
       "  <thead>\n",
       "    <tr style=\"text-align: right;\">\n",
       "      <th></th>\n",
       "      <th>SwHBa</th>\n",
       "      <th>minHBd</th>\n",
       "      <th>MDEN-13</th>\n",
       "      <th>XLogP</th>\n",
       "      <th>MATS2s</th>\n",
       "      <th>GATS2s</th>\n",
       "      <th>GGI6</th>\n",
       "      <th>SpMax1_Bhs</th>\n",
       "      <th>GATS4m</th>\n",
       "      <th>SpMax3_Bhm</th>\n",
       "      <th>...</th>\n",
       "      <th>minHssNH</th>\n",
       "      <th>SRW9</th>\n",
       "      <th>GATS3e</th>\n",
       "      <th>ASP-1</th>\n",
       "      <th>R_TpiPCTPC</th>\n",
       "      <th>GATS5c</th>\n",
       "      <th>AATS8m</th>\n",
       "      <th>GATS1c</th>\n",
       "      <th>GATS3s</th>\n",
       "      <th>CLASS</th>\n",
       "    </tr>\n",
       "  </thead>\n",
       "  <tbody>\n",
       "    <tr>\n",
       "      <th>0</th>\n",
       "      <td>-0.351249</td>\n",
       "      <td>-0.602163</td>\n",
       "      <td>-0.38591</td>\n",
       "      <td>-0.080868</td>\n",
       "      <td>-0.458866</td>\n",
       "      <td>-0.276488</td>\n",
       "      <td>-0.083801</td>\n",
       "      <td>0.281555</td>\n",
       "      <td>0.689056</td>\n",
       "      <td>0.304063</td>\n",
       "      <td>...</td>\n",
       "      <td>-0.175906</td>\n",
       "      <td>-1.504694</td>\n",
       "      <td>-0.519184</td>\n",
       "      <td>0.277805</td>\n",
       "      <td>-0.347614</td>\n",
       "      <td>-0.600570</td>\n",
       "      <td>-0.072174</td>\n",
       "      <td>-0.368918</td>\n",
       "      <td>-0.386182</td>\n",
       "      <td>0</td>\n",
       "    </tr>\n",
       "    <tr>\n",
       "      <th>1</th>\n",
       "      <td>0.267557</td>\n",
       "      <td>-0.664901</td>\n",
       "      <td>-0.38591</td>\n",
       "      <td>-0.278347</td>\n",
       "      <td>-0.145311</td>\n",
       "      <td>-0.158102</td>\n",
       "      <td>-0.239339</td>\n",
       "      <td>-0.329995</td>\n",
       "      <td>0.743703</td>\n",
       "      <td>0.196734</td>\n",
       "      <td>...</td>\n",
       "      <td>-0.217294</td>\n",
       "      <td>-1.504694</td>\n",
       "      <td>0.056759</td>\n",
       "      <td>0.726497</td>\n",
       "      <td>-0.348569</td>\n",
       "      <td>-0.141784</td>\n",
       "      <td>-0.167602</td>\n",
       "      <td>0.100444</td>\n",
       "      <td>0.161942</td>\n",
       "      <td>0</td>\n",
       "    </tr>\n",
       "    <tr>\n",
       "      <th>2</th>\n",
       "      <td>0.797947</td>\n",
       "      <td>-0.156930</td>\n",
       "      <td>-0.38591</td>\n",
       "      <td>0.800734</td>\n",
       "      <td>-0.107372</td>\n",
       "      <td>-0.469982</td>\n",
       "      <td>-0.780609</td>\n",
       "      <td>-0.364963</td>\n",
       "      <td>0.430726</td>\n",
       "      <td>0.188879</td>\n",
       "      <td>...</td>\n",
       "      <td>0.117806</td>\n",
       "      <td>-1.504694</td>\n",
       "      <td>-0.270485</td>\n",
       "      <td>0.557216</td>\n",
       "      <td>-0.272658</td>\n",
       "      <td>1.581178</td>\n",
       "      <td>-0.353213</td>\n",
       "      <td>0.347286</td>\n",
       "      <td>0.110075</td>\n",
       "      <td>0</td>\n",
       "    </tr>\n",
       "    <tr>\n",
       "      <th>3</th>\n",
       "      <td>0.002126</td>\n",
       "      <td>-0.965972</td>\n",
       "      <td>-0.38591</td>\n",
       "      <td>-0.420579</td>\n",
       "      <td>-0.639170</td>\n",
       "      <td>0.622512</td>\n",
       "      <td>0.296402</td>\n",
       "      <td>0.292371</td>\n",
       "      <td>0.435166</td>\n",
       "      <td>0.409627</td>\n",
       "      <td>...</td>\n",
       "      <td>-0.415906</td>\n",
       "      <td>0.826836</td>\n",
       "      <td>-0.558183</td>\n",
       "      <td>-0.110332</td>\n",
       "      <td>-0.595717</td>\n",
       "      <td>-0.127133</td>\n",
       "      <td>-0.337717</td>\n",
       "      <td>-0.505372</td>\n",
       "      <td>-0.342719</td>\n",
       "      <td>0</td>\n",
       "    </tr>\n",
       "    <tr>\n",
       "      <th>4</th>\n",
       "      <td>0.112239</td>\n",
       "      <td>-0.830326</td>\n",
       "      <td>-0.38591</td>\n",
       "      <td>-0.756176</td>\n",
       "      <td>-0.142033</td>\n",
       "      <td>0.295054</td>\n",
       "      <td>-0.320218</td>\n",
       "      <td>0.023826</td>\n",
       "      <td>0.679495</td>\n",
       "      <td>-0.129296</td>\n",
       "      <td>...</td>\n",
       "      <td>-0.326422</td>\n",
       "      <td>-1.504694</td>\n",
       "      <td>-0.653413</td>\n",
       "      <td>0.726497</td>\n",
       "      <td>-0.682845</td>\n",
       "      <td>0.226682</td>\n",
       "      <td>-0.563980</td>\n",
       "      <td>-0.463201</td>\n",
       "      <td>-0.715704</td>\n",
       "      <td>0</td>\n",
       "    </tr>\n",
       "  </tbody>\n",
       "</table>\n",
       "<p>5 rows × 31 columns</p>\n",
       "</div>"
      ],
      "text/plain": [
       "      SwHBa    minHBd  MDEN-13     XLogP    MATS2s    GATS2s      GGI6  \\\n",
       "0 -0.351249 -0.602163 -0.38591 -0.080868 -0.458866 -0.276488 -0.083801   \n",
       "1  0.267557 -0.664901 -0.38591 -0.278347 -0.145311 -0.158102 -0.239339   \n",
       "2  0.797947 -0.156930 -0.38591  0.800734 -0.107372 -0.469982 -0.780609   \n",
       "3  0.002126 -0.965972 -0.38591 -0.420579 -0.639170  0.622512  0.296402   \n",
       "4  0.112239 -0.830326 -0.38591 -0.756176 -0.142033  0.295054 -0.320218   \n",
       "\n",
       "   SpMax1_Bhs    GATS4m  SpMax3_Bhm  ...  minHssNH      SRW9    GATS3e  \\\n",
       "0    0.281555  0.689056    0.304063  ... -0.175906 -1.504694 -0.519184   \n",
       "1   -0.329995  0.743703    0.196734  ... -0.217294 -1.504694  0.056759   \n",
       "2   -0.364963  0.430726    0.188879  ...  0.117806 -1.504694 -0.270485   \n",
       "3    0.292371  0.435166    0.409627  ... -0.415906  0.826836 -0.558183   \n",
       "4    0.023826  0.679495   -0.129296  ... -0.326422 -1.504694 -0.653413   \n",
       "\n",
       "      ASP-1  R_TpiPCTPC    GATS5c    AATS8m    GATS1c    GATS3s  CLASS  \n",
       "0  0.277805   -0.347614 -0.600570 -0.072174 -0.368918 -0.386182      0  \n",
       "1  0.726497   -0.348569 -0.141784 -0.167602  0.100444  0.161942      0  \n",
       "2  0.557216   -0.272658  1.581178 -0.353213  0.347286  0.110075      0  \n",
       "3 -0.110332   -0.595717 -0.127133 -0.337717 -0.505372 -0.342719      0  \n",
       "4  0.726497   -0.682845  0.226682 -0.563980 -0.463201 -0.715704      0  \n",
       "\n",
       "[5 rows x 31 columns]"
      ]
     },
     "execution_count": 5,
     "metadata": {},
     "output_type": "execute_result"
    }
   ],
   "source": [
    "data.head()"
   ]
  },
  {
   "cell_type": "code",
   "execution_count": 6,
   "metadata": {
    "scrolled": true
   },
   "outputs": [
    {
     "data": {
      "text/plain": [
       "((2548, 30), (2548, 1))"
      ]
     },
     "execution_count": 6,
     "metadata": {},
     "output_type": "execute_result"
    }
   ],
   "source": [
    "X.shape , y.shape"
   ]
  },
  {
   "cell_type": "code",
   "execution_count": 7,
   "metadata": {
    "scrolled": true
   },
   "outputs": [],
   "source": [
    "from imblearn.over_sampling import SMOTE\n",
    "X , y =SMOTE().fit_sample(X,y)"
   ]
  },
  {
   "cell_type": "code",
   "execution_count": 8,
   "metadata": {},
   "outputs": [],
   "source": [
    "X = StandardScaler().fit_transform(X)"
   ]
  },
  {
   "cell_type": "code",
   "execution_count": 9,
   "metadata": {
    "scrolled": true
   },
   "outputs": [
    {
     "data": {
      "text/plain": [
       "((4480, 30), (4480, 1))"
      ]
     },
     "execution_count": 9,
     "metadata": {},
     "output_type": "execute_result"
    }
   ],
   "source": [
    "X.shape , y.shape"
   ]
  },
  {
   "cell_type": "code",
   "execution_count": 10,
   "metadata": {},
   "outputs": [],
   "source": [
    "X = pd.DataFrame(X)\n",
    "X.columns= col\n",
    "y = pd.DataFrame(y)"
   ]
  },
  {
   "cell_type": "code",
   "execution_count": 11,
   "metadata": {},
   "outputs": [],
   "source": [
    "y_ = y.rename(columns={0: \"class\"})"
   ]
  },
  {
   "cell_type": "code",
   "execution_count": 12,
   "metadata": {},
   "outputs": [],
   "source": [
    "#PCA to visualize data in 2 dimension"
   ]
  },
  {
   "cell_type": "code",
   "execution_count": 13,
   "metadata": {},
   "outputs": [],
   "source": [
    "from sklearn.decomposition import PCA as sklearnPCA\n",
    "np.random.seed(2)\n",
    "pca = sklearnPCA(n_components=2)"
   ]
  },
  {
   "cell_type": "code",
   "execution_count": 14,
   "metadata": {},
   "outputs": [],
   "source": [
    "principalComponents = pca.fit_transform(X)\n",
    "principalDf = pd.DataFrame(data = principalComponents\n",
    "             , columns = ['principal component 1', 'principal component 2'])"
   ]
  },
  {
   "cell_type": "code",
   "execution_count": 15,
   "metadata": {},
   "outputs": [],
   "source": [
    "finalDf = pd.concat([principalDf, y] ,axis = 1)"
   ]
  },
  {
   "cell_type": "code",
   "execution_count": 16,
   "metadata": {
    "scrolled": true
   },
   "outputs": [],
   "source": [
    "finalDf = finalDf.rename(columns={0: \"target\"})"
   ]
  },
  {
   "cell_type": "code",
   "execution_count": 17,
   "metadata": {
    "scrolled": true
   },
   "outputs": [
    {
     "data": {
      "text/html": [
       "<div>\n",
       "<style scoped>\n",
       "    .dataframe tbody tr th:only-of-type {\n",
       "        vertical-align: middle;\n",
       "    }\n",
       "\n",
       "    .dataframe tbody tr th {\n",
       "        vertical-align: top;\n",
       "    }\n",
       "\n",
       "    .dataframe thead th {\n",
       "        text-align: right;\n",
       "    }\n",
       "</style>\n",
       "<table border=\"1\" class=\"dataframe\">\n",
       "  <thead>\n",
       "    <tr style=\"text-align: right;\">\n",
       "      <th></th>\n",
       "      <th>principal component 1</th>\n",
       "      <th>principal component 2</th>\n",
       "      <th>CLASS</th>\n",
       "    </tr>\n",
       "  </thead>\n",
       "  <tbody>\n",
       "    <tr>\n",
       "      <th>0</th>\n",
       "      <td>0.297553</td>\n",
       "      <td>0.091282</td>\n",
       "      <td>0</td>\n",
       "    </tr>\n",
       "    <tr>\n",
       "      <th>1</th>\n",
       "      <td>-0.360197</td>\n",
       "      <td>0.233018</td>\n",
       "      <td>0</td>\n",
       "    </tr>\n",
       "    <tr>\n",
       "      <th>2</th>\n",
       "      <td>-1.059182</td>\n",
       "      <td>0.733638</td>\n",
       "      <td>0</td>\n",
       "    </tr>\n",
       "    <tr>\n",
       "      <th>3</th>\n",
       "      <td>0.537476</td>\n",
       "      <td>-0.071620</td>\n",
       "      <td>0</td>\n",
       "    </tr>\n",
       "    <tr>\n",
       "      <th>4</th>\n",
       "      <td>-0.179827</td>\n",
       "      <td>-0.343154</td>\n",
       "      <td>0</td>\n",
       "    </tr>\n",
       "    <tr>\n",
       "      <th>5</th>\n",
       "      <td>-0.207171</td>\n",
       "      <td>0.988892</td>\n",
       "      <td>0</td>\n",
       "    </tr>\n",
       "    <tr>\n",
       "      <th>6</th>\n",
       "      <td>-0.191504</td>\n",
       "      <td>0.693135</td>\n",
       "      <td>0</td>\n",
       "    </tr>\n",
       "    <tr>\n",
       "      <th>7</th>\n",
       "      <td>0.746883</td>\n",
       "      <td>0.373776</td>\n",
       "      <td>0</td>\n",
       "    </tr>\n",
       "    <tr>\n",
       "      <th>8</th>\n",
       "      <td>2.483043</td>\n",
       "      <td>0.120301</td>\n",
       "      <td>0</td>\n",
       "    </tr>\n",
       "    <tr>\n",
       "      <th>9</th>\n",
       "      <td>0.249652</td>\n",
       "      <td>0.385990</td>\n",
       "      <td>0</td>\n",
       "    </tr>\n",
       "    <tr>\n",
       "      <th>10</th>\n",
       "      <td>0.238687</td>\n",
       "      <td>0.097202</td>\n",
       "      <td>0</td>\n",
       "    </tr>\n",
       "    <tr>\n",
       "      <th>11</th>\n",
       "      <td>0.386976</td>\n",
       "      <td>0.273091</td>\n",
       "      <td>0</td>\n",
       "    </tr>\n",
       "    <tr>\n",
       "      <th>12</th>\n",
       "      <td>-0.544692</td>\n",
       "      <td>0.214110</td>\n",
       "      <td>0</td>\n",
       "    </tr>\n",
       "    <tr>\n",
       "      <th>13</th>\n",
       "      <td>0.502028</td>\n",
       "      <td>-0.439905</td>\n",
       "      <td>0</td>\n",
       "    </tr>\n",
       "    <tr>\n",
       "      <th>14</th>\n",
       "      <td>0.029184</td>\n",
       "      <td>0.658095</td>\n",
       "      <td>0</td>\n",
       "    </tr>\n",
       "    <tr>\n",
       "      <th>15</th>\n",
       "      <td>1.106786</td>\n",
       "      <td>-0.711618</td>\n",
       "      <td>0</td>\n",
       "    </tr>\n",
       "    <tr>\n",
       "      <th>16</th>\n",
       "      <td>-0.435545</td>\n",
       "      <td>1.889557</td>\n",
       "      <td>0</td>\n",
       "    </tr>\n",
       "    <tr>\n",
       "      <th>17</th>\n",
       "      <td>-0.364076</td>\n",
       "      <td>-0.072062</td>\n",
       "      <td>0</td>\n",
       "    </tr>\n",
       "    <tr>\n",
       "      <th>18</th>\n",
       "      <td>0.375482</td>\n",
       "      <td>0.262622</td>\n",
       "      <td>0</td>\n",
       "    </tr>\n",
       "    <tr>\n",
       "      <th>19</th>\n",
       "      <td>0.241671</td>\n",
       "      <td>1.176860</td>\n",
       "      <td>0</td>\n",
       "    </tr>\n",
       "    <tr>\n",
       "      <th>20</th>\n",
       "      <td>0.620204</td>\n",
       "      <td>0.544096</td>\n",
       "      <td>0</td>\n",
       "    </tr>\n",
       "    <tr>\n",
       "      <th>21</th>\n",
       "      <td>2.176149</td>\n",
       "      <td>0.105319</td>\n",
       "      <td>0</td>\n",
       "    </tr>\n",
       "    <tr>\n",
       "      <th>22</th>\n",
       "      <td>1.600223</td>\n",
       "      <td>0.652973</td>\n",
       "      <td>0</td>\n",
       "    </tr>\n",
       "    <tr>\n",
       "      <th>23</th>\n",
       "      <td>5.806729</td>\n",
       "      <td>1.992431</td>\n",
       "      <td>0</td>\n",
       "    </tr>\n",
       "    <tr>\n",
       "      <th>24</th>\n",
       "      <td>-0.750999</td>\n",
       "      <td>1.339184</td>\n",
       "      <td>0</td>\n",
       "    </tr>\n",
       "    <tr>\n",
       "      <th>25</th>\n",
       "      <td>-1.463378</td>\n",
       "      <td>0.653949</td>\n",
       "      <td>0</td>\n",
       "    </tr>\n",
       "    <tr>\n",
       "      <th>26</th>\n",
       "      <td>0.238687</td>\n",
       "      <td>0.097202</td>\n",
       "      <td>0</td>\n",
       "    </tr>\n",
       "    <tr>\n",
       "      <th>27</th>\n",
       "      <td>-0.711297</td>\n",
       "      <td>0.343204</td>\n",
       "      <td>0</td>\n",
       "    </tr>\n",
       "    <tr>\n",
       "      <th>28</th>\n",
       "      <td>4.263984</td>\n",
       "      <td>1.379390</td>\n",
       "      <td>0</td>\n",
       "    </tr>\n",
       "    <tr>\n",
       "      <th>29</th>\n",
       "      <td>0.079214</td>\n",
       "      <td>2.420200</td>\n",
       "      <td>0</td>\n",
       "    </tr>\n",
       "    <tr>\n",
       "      <th>...</th>\n",
       "      <td>...</td>\n",
       "      <td>...</td>\n",
       "      <td>...</td>\n",
       "    </tr>\n",
       "    <tr>\n",
       "      <th>4450</th>\n",
       "      <td>1.059853</td>\n",
       "      <td>-1.607127</td>\n",
       "      <td>1</td>\n",
       "    </tr>\n",
       "    <tr>\n",
       "      <th>4451</th>\n",
       "      <td>-4.750089</td>\n",
       "      <td>1.657493</td>\n",
       "      <td>1</td>\n",
       "    </tr>\n",
       "    <tr>\n",
       "      <th>4452</th>\n",
       "      <td>-0.304017</td>\n",
       "      <td>2.402395</td>\n",
       "      <td>1</td>\n",
       "    </tr>\n",
       "    <tr>\n",
       "      <th>4453</th>\n",
       "      <td>0.756338</td>\n",
       "      <td>-2.739903</td>\n",
       "      <td>1</td>\n",
       "    </tr>\n",
       "    <tr>\n",
       "      <th>4454</th>\n",
       "      <td>1.030753</td>\n",
       "      <td>-1.596406</td>\n",
       "      <td>1</td>\n",
       "    </tr>\n",
       "    <tr>\n",
       "      <th>4455</th>\n",
       "      <td>8.024540</td>\n",
       "      <td>0.003847</td>\n",
       "      <td>1</td>\n",
       "    </tr>\n",
       "    <tr>\n",
       "      <th>4456</th>\n",
       "      <td>-1.415027</td>\n",
       "      <td>5.166676</td>\n",
       "      <td>1</td>\n",
       "    </tr>\n",
       "    <tr>\n",
       "      <th>4457</th>\n",
       "      <td>-1.704925</td>\n",
       "      <td>0.419172</td>\n",
       "      <td>1</td>\n",
       "    </tr>\n",
       "    <tr>\n",
       "      <th>4458</th>\n",
       "      <td>0.429218</td>\n",
       "      <td>-2.827342</td>\n",
       "      <td>1</td>\n",
       "    </tr>\n",
       "    <tr>\n",
       "      <th>4459</th>\n",
       "      <td>1.205636</td>\n",
       "      <td>-1.694988</td>\n",
       "      <td>1</td>\n",
       "    </tr>\n",
       "    <tr>\n",
       "      <th>4460</th>\n",
       "      <td>1.514204</td>\n",
       "      <td>-1.935105</td>\n",
       "      <td>1</td>\n",
       "    </tr>\n",
       "    <tr>\n",
       "      <th>4461</th>\n",
       "      <td>0.670921</td>\n",
       "      <td>-1.876682</td>\n",
       "      <td>1</td>\n",
       "    </tr>\n",
       "    <tr>\n",
       "      <th>4462</th>\n",
       "      <td>-3.971839</td>\n",
       "      <td>2.951887</td>\n",
       "      <td>1</td>\n",
       "    </tr>\n",
       "    <tr>\n",
       "      <th>4463</th>\n",
       "      <td>1.644880</td>\n",
       "      <td>-3.700983</td>\n",
       "      <td>1</td>\n",
       "    </tr>\n",
       "    <tr>\n",
       "      <th>4464</th>\n",
       "      <td>-1.382397</td>\n",
       "      <td>0.042444</td>\n",
       "      <td>1</td>\n",
       "    </tr>\n",
       "    <tr>\n",
       "      <th>4465</th>\n",
       "      <td>-2.106682</td>\n",
       "      <td>-1.270443</td>\n",
       "      <td>1</td>\n",
       "    </tr>\n",
       "    <tr>\n",
       "      <th>4466</th>\n",
       "      <td>1.348720</td>\n",
       "      <td>-3.779605</td>\n",
       "      <td>1</td>\n",
       "    </tr>\n",
       "    <tr>\n",
       "      <th>4467</th>\n",
       "      <td>0.521069</td>\n",
       "      <td>0.236933</td>\n",
       "      <td>1</td>\n",
       "    </tr>\n",
       "    <tr>\n",
       "      <th>4468</th>\n",
       "      <td>-5.887008</td>\n",
       "      <td>0.794258</td>\n",
       "      <td>1</td>\n",
       "    </tr>\n",
       "    <tr>\n",
       "      <th>4469</th>\n",
       "      <td>-1.176707</td>\n",
       "      <td>-1.639522</td>\n",
       "      <td>1</td>\n",
       "    </tr>\n",
       "    <tr>\n",
       "      <th>4470</th>\n",
       "      <td>1.002164</td>\n",
       "      <td>-2.050315</td>\n",
       "      <td>1</td>\n",
       "    </tr>\n",
       "    <tr>\n",
       "      <th>4471</th>\n",
       "      <td>-0.558698</td>\n",
       "      <td>-2.547551</td>\n",
       "      <td>1</td>\n",
       "    </tr>\n",
       "    <tr>\n",
       "      <th>4472</th>\n",
       "      <td>-1.933795</td>\n",
       "      <td>0.089537</td>\n",
       "      <td>1</td>\n",
       "    </tr>\n",
       "    <tr>\n",
       "      <th>4473</th>\n",
       "      <td>-3.212520</td>\n",
       "      <td>3.282677</td>\n",
       "      <td>1</td>\n",
       "    </tr>\n",
       "    <tr>\n",
       "      <th>4474</th>\n",
       "      <td>0.891041</td>\n",
       "      <td>-1.633375</td>\n",
       "      <td>1</td>\n",
       "    </tr>\n",
       "    <tr>\n",
       "      <th>4475</th>\n",
       "      <td>-1.460412</td>\n",
       "      <td>-1.476065</td>\n",
       "      <td>1</td>\n",
       "    </tr>\n",
       "    <tr>\n",
       "      <th>4476</th>\n",
       "      <td>-0.936989</td>\n",
       "      <td>-0.499969</td>\n",
       "      <td>1</td>\n",
       "    </tr>\n",
       "    <tr>\n",
       "      <th>4477</th>\n",
       "      <td>1.059692</td>\n",
       "      <td>-1.083752</td>\n",
       "      <td>1</td>\n",
       "    </tr>\n",
       "    <tr>\n",
       "      <th>4478</th>\n",
       "      <td>1.259436</td>\n",
       "      <td>-3.611511</td>\n",
       "      <td>1</td>\n",
       "    </tr>\n",
       "    <tr>\n",
       "      <th>4479</th>\n",
       "      <td>-0.524426</td>\n",
       "      <td>-2.990215</td>\n",
       "      <td>1</td>\n",
       "    </tr>\n",
       "  </tbody>\n",
       "</table>\n",
       "<p>4480 rows × 3 columns</p>\n",
       "</div>"
      ],
      "text/plain": [
       "      principal component 1  principal component 2  CLASS\n",
       "0                  0.297553               0.091282      0\n",
       "1                 -0.360197               0.233018      0\n",
       "2                 -1.059182               0.733638      0\n",
       "3                  0.537476              -0.071620      0\n",
       "4                 -0.179827              -0.343154      0\n",
       "5                 -0.207171               0.988892      0\n",
       "6                 -0.191504               0.693135      0\n",
       "7                  0.746883               0.373776      0\n",
       "8                  2.483043               0.120301      0\n",
       "9                  0.249652               0.385990      0\n",
       "10                 0.238687               0.097202      0\n",
       "11                 0.386976               0.273091      0\n",
       "12                -0.544692               0.214110      0\n",
       "13                 0.502028              -0.439905      0\n",
       "14                 0.029184               0.658095      0\n",
       "15                 1.106786              -0.711618      0\n",
       "16                -0.435545               1.889557      0\n",
       "17                -0.364076              -0.072062      0\n",
       "18                 0.375482               0.262622      0\n",
       "19                 0.241671               1.176860      0\n",
       "20                 0.620204               0.544096      0\n",
       "21                 2.176149               0.105319      0\n",
       "22                 1.600223               0.652973      0\n",
       "23                 5.806729               1.992431      0\n",
       "24                -0.750999               1.339184      0\n",
       "25                -1.463378               0.653949      0\n",
       "26                 0.238687               0.097202      0\n",
       "27                -0.711297               0.343204      0\n",
       "28                 4.263984               1.379390      0\n",
       "29                 0.079214               2.420200      0\n",
       "...                     ...                    ...    ...\n",
       "4450               1.059853              -1.607127      1\n",
       "4451              -4.750089               1.657493      1\n",
       "4452              -0.304017               2.402395      1\n",
       "4453               0.756338              -2.739903      1\n",
       "4454               1.030753              -1.596406      1\n",
       "4455               8.024540               0.003847      1\n",
       "4456              -1.415027               5.166676      1\n",
       "4457              -1.704925               0.419172      1\n",
       "4458               0.429218              -2.827342      1\n",
       "4459               1.205636              -1.694988      1\n",
       "4460               1.514204              -1.935105      1\n",
       "4461               0.670921              -1.876682      1\n",
       "4462              -3.971839               2.951887      1\n",
       "4463               1.644880              -3.700983      1\n",
       "4464              -1.382397               0.042444      1\n",
       "4465              -2.106682              -1.270443      1\n",
       "4466               1.348720              -3.779605      1\n",
       "4467               0.521069               0.236933      1\n",
       "4468              -5.887008               0.794258      1\n",
       "4469              -1.176707              -1.639522      1\n",
       "4470               1.002164              -2.050315      1\n",
       "4471              -0.558698              -2.547551      1\n",
       "4472              -1.933795               0.089537      1\n",
       "4473              -3.212520               3.282677      1\n",
       "4474               0.891041              -1.633375      1\n",
       "4475              -1.460412              -1.476065      1\n",
       "4476              -0.936989              -0.499969      1\n",
       "4477               1.059692              -1.083752      1\n",
       "4478               1.259436              -3.611511      1\n",
       "4479              -0.524426              -2.990215      1\n",
       "\n",
       "[4480 rows x 3 columns]"
      ]
     },
     "execution_count": 17,
     "metadata": {},
     "output_type": "execute_result"
    }
   ],
   "source": [
    "finalDf"
   ]
  },
  {
   "cell_type": "code",
   "execution_count": 18,
   "metadata": {
    "scrolled": false
   },
   "outputs": [
    {
     "ename": "KeyError",
     "evalue": "'target'",
     "output_type": "error",
     "traceback": [
      "\u001b[1;31m---------------------------------------------------------------------------\u001b[0m",
      "\u001b[1;31mKeyError\u001b[0m                                  Traceback (most recent call last)",
      "\u001b[1;32m~\\Anaconda3\\lib\\site-packages\\pandas\\core\\indexes\\base.py\u001b[0m in \u001b[0;36mget_loc\u001b[1;34m(self, key, method, tolerance)\u001b[0m\n\u001b[0;32m   2656\u001b[0m             \u001b[1;32mtry\u001b[0m\u001b[1;33m:\u001b[0m\u001b[1;33m\u001b[0m\u001b[1;33m\u001b[0m\u001b[0m\n\u001b[1;32m-> 2657\u001b[1;33m                 \u001b[1;32mreturn\u001b[0m \u001b[0mself\u001b[0m\u001b[1;33m.\u001b[0m\u001b[0m_engine\u001b[0m\u001b[1;33m.\u001b[0m\u001b[0mget_loc\u001b[0m\u001b[1;33m(\u001b[0m\u001b[0mkey\u001b[0m\u001b[1;33m)\u001b[0m\u001b[1;33m\u001b[0m\u001b[1;33m\u001b[0m\u001b[0m\n\u001b[0m\u001b[0;32m   2658\u001b[0m             \u001b[1;32mexcept\u001b[0m \u001b[0mKeyError\u001b[0m\u001b[1;33m:\u001b[0m\u001b[1;33m\u001b[0m\u001b[1;33m\u001b[0m\u001b[0m\n",
      "\u001b[1;32mpandas/_libs/index.pyx\u001b[0m in \u001b[0;36mpandas._libs.index.IndexEngine.get_loc\u001b[1;34m()\u001b[0m\n",
      "\u001b[1;32mpandas/_libs/index.pyx\u001b[0m in \u001b[0;36mpandas._libs.index.IndexEngine.get_loc\u001b[1;34m()\u001b[0m\n",
      "\u001b[1;32mpandas/_libs/hashtable_class_helper.pxi\u001b[0m in \u001b[0;36mpandas._libs.hashtable.PyObjectHashTable.get_item\u001b[1;34m()\u001b[0m\n",
      "\u001b[1;32mpandas/_libs/hashtable_class_helper.pxi\u001b[0m in \u001b[0;36mpandas._libs.hashtable.PyObjectHashTable.get_item\u001b[1;34m()\u001b[0m\n",
      "\u001b[1;31mKeyError\u001b[0m: 'target'",
      "\nDuring handling of the above exception, another exception occurred:\n",
      "\u001b[1;31mKeyError\u001b[0m                                  Traceback (most recent call last)",
      "\u001b[1;32m<ipython-input-18-885642937460>\u001b[0m in \u001b[0;36m<module>\u001b[1;34m\u001b[0m\n\u001b[0;32m      7\u001b[0m \u001b[0mcolors\u001b[0m \u001b[1;33m=\u001b[0m \u001b[1;33m[\u001b[0m\u001b[1;34m'g'\u001b[0m\u001b[1;33m,\u001b[0m \u001b[1;34m'b'\u001b[0m\u001b[1;33m]\u001b[0m\u001b[1;33m\u001b[0m\u001b[1;33m\u001b[0m\u001b[0m\n\u001b[0;32m      8\u001b[0m \u001b[1;32mfor\u001b[0m \u001b[0mtarget\u001b[0m\u001b[1;33m,\u001b[0m \u001b[0mcolor\u001b[0m \u001b[1;32min\u001b[0m \u001b[0mzip\u001b[0m\u001b[1;33m(\u001b[0m\u001b[0mtargets\u001b[0m\u001b[1;33m,\u001b[0m\u001b[0mcolors\u001b[0m\u001b[1;33m)\u001b[0m\u001b[1;33m:\u001b[0m\u001b[1;33m\u001b[0m\u001b[1;33m\u001b[0m\u001b[0m\n\u001b[1;32m----> 9\u001b[1;33m     \u001b[0mindicesToKeep\u001b[0m \u001b[1;33m=\u001b[0m \u001b[0mfinalDf\u001b[0m\u001b[1;33m[\u001b[0m\u001b[1;34m'target'\u001b[0m\u001b[1;33m]\u001b[0m \u001b[1;33m==\u001b[0m \u001b[0mtarget\u001b[0m\u001b[1;33m\u001b[0m\u001b[1;33m\u001b[0m\u001b[0m\n\u001b[0m\u001b[0;32m     10\u001b[0m     ax.scatter(finalDf.loc[indicesToKeep, 'principal component 1']\n\u001b[0;32m     11\u001b[0m                \u001b[1;33m,\u001b[0m \u001b[0mfinalDf\u001b[0m\u001b[1;33m.\u001b[0m\u001b[0mloc\u001b[0m\u001b[1;33m[\u001b[0m\u001b[0mindicesToKeep\u001b[0m\u001b[1;33m,\u001b[0m \u001b[1;34m'principal component 2'\u001b[0m\u001b[1;33m]\u001b[0m\u001b[1;33m\u001b[0m\u001b[1;33m\u001b[0m\u001b[0m\n",
      "\u001b[1;32m~\\Anaconda3\\lib\\site-packages\\pandas\\core\\frame.py\u001b[0m in \u001b[0;36m__getitem__\u001b[1;34m(self, key)\u001b[0m\n\u001b[0;32m   2925\u001b[0m             \u001b[1;32mif\u001b[0m \u001b[0mself\u001b[0m\u001b[1;33m.\u001b[0m\u001b[0mcolumns\u001b[0m\u001b[1;33m.\u001b[0m\u001b[0mnlevels\u001b[0m \u001b[1;33m>\u001b[0m \u001b[1;36m1\u001b[0m\u001b[1;33m:\u001b[0m\u001b[1;33m\u001b[0m\u001b[1;33m\u001b[0m\u001b[0m\n\u001b[0;32m   2926\u001b[0m                 \u001b[1;32mreturn\u001b[0m \u001b[0mself\u001b[0m\u001b[1;33m.\u001b[0m\u001b[0m_getitem_multilevel\u001b[0m\u001b[1;33m(\u001b[0m\u001b[0mkey\u001b[0m\u001b[1;33m)\u001b[0m\u001b[1;33m\u001b[0m\u001b[1;33m\u001b[0m\u001b[0m\n\u001b[1;32m-> 2927\u001b[1;33m             \u001b[0mindexer\u001b[0m \u001b[1;33m=\u001b[0m \u001b[0mself\u001b[0m\u001b[1;33m.\u001b[0m\u001b[0mcolumns\u001b[0m\u001b[1;33m.\u001b[0m\u001b[0mget_loc\u001b[0m\u001b[1;33m(\u001b[0m\u001b[0mkey\u001b[0m\u001b[1;33m)\u001b[0m\u001b[1;33m\u001b[0m\u001b[1;33m\u001b[0m\u001b[0m\n\u001b[0m\u001b[0;32m   2928\u001b[0m             \u001b[1;32mif\u001b[0m \u001b[0mis_integer\u001b[0m\u001b[1;33m(\u001b[0m\u001b[0mindexer\u001b[0m\u001b[1;33m)\u001b[0m\u001b[1;33m:\u001b[0m\u001b[1;33m\u001b[0m\u001b[1;33m\u001b[0m\u001b[0m\n\u001b[0;32m   2929\u001b[0m                 \u001b[0mindexer\u001b[0m \u001b[1;33m=\u001b[0m \u001b[1;33m[\u001b[0m\u001b[0mindexer\u001b[0m\u001b[1;33m]\u001b[0m\u001b[1;33m\u001b[0m\u001b[1;33m\u001b[0m\u001b[0m\n",
      "\u001b[1;32m~\\Anaconda3\\lib\\site-packages\\pandas\\core\\indexes\\base.py\u001b[0m in \u001b[0;36mget_loc\u001b[1;34m(self, key, method, tolerance)\u001b[0m\n\u001b[0;32m   2657\u001b[0m                 \u001b[1;32mreturn\u001b[0m \u001b[0mself\u001b[0m\u001b[1;33m.\u001b[0m\u001b[0m_engine\u001b[0m\u001b[1;33m.\u001b[0m\u001b[0mget_loc\u001b[0m\u001b[1;33m(\u001b[0m\u001b[0mkey\u001b[0m\u001b[1;33m)\u001b[0m\u001b[1;33m\u001b[0m\u001b[1;33m\u001b[0m\u001b[0m\n\u001b[0;32m   2658\u001b[0m             \u001b[1;32mexcept\u001b[0m \u001b[0mKeyError\u001b[0m\u001b[1;33m:\u001b[0m\u001b[1;33m\u001b[0m\u001b[1;33m\u001b[0m\u001b[0m\n\u001b[1;32m-> 2659\u001b[1;33m                 \u001b[1;32mreturn\u001b[0m \u001b[0mself\u001b[0m\u001b[1;33m.\u001b[0m\u001b[0m_engine\u001b[0m\u001b[1;33m.\u001b[0m\u001b[0mget_loc\u001b[0m\u001b[1;33m(\u001b[0m\u001b[0mself\u001b[0m\u001b[1;33m.\u001b[0m\u001b[0m_maybe_cast_indexer\u001b[0m\u001b[1;33m(\u001b[0m\u001b[0mkey\u001b[0m\u001b[1;33m)\u001b[0m\u001b[1;33m)\u001b[0m\u001b[1;33m\u001b[0m\u001b[1;33m\u001b[0m\u001b[0m\n\u001b[0m\u001b[0;32m   2660\u001b[0m         \u001b[0mindexer\u001b[0m \u001b[1;33m=\u001b[0m \u001b[0mself\u001b[0m\u001b[1;33m.\u001b[0m\u001b[0mget_indexer\u001b[0m\u001b[1;33m(\u001b[0m\u001b[1;33m[\u001b[0m\u001b[0mkey\u001b[0m\u001b[1;33m]\u001b[0m\u001b[1;33m,\u001b[0m \u001b[0mmethod\u001b[0m\u001b[1;33m=\u001b[0m\u001b[0mmethod\u001b[0m\u001b[1;33m,\u001b[0m \u001b[0mtolerance\u001b[0m\u001b[1;33m=\u001b[0m\u001b[0mtolerance\u001b[0m\u001b[1;33m)\u001b[0m\u001b[1;33m\u001b[0m\u001b[1;33m\u001b[0m\u001b[0m\n\u001b[0;32m   2661\u001b[0m         \u001b[1;32mif\u001b[0m \u001b[0mindexer\u001b[0m\u001b[1;33m.\u001b[0m\u001b[0mndim\u001b[0m \u001b[1;33m>\u001b[0m \u001b[1;36m1\u001b[0m \u001b[1;32mor\u001b[0m \u001b[0mindexer\u001b[0m\u001b[1;33m.\u001b[0m\u001b[0msize\u001b[0m \u001b[1;33m>\u001b[0m \u001b[1;36m1\u001b[0m\u001b[1;33m:\u001b[0m\u001b[1;33m\u001b[0m\u001b[1;33m\u001b[0m\u001b[0m\n",
      "\u001b[1;32mpandas/_libs/index.pyx\u001b[0m in \u001b[0;36mpandas._libs.index.IndexEngine.get_loc\u001b[1;34m()\u001b[0m\n",
      "\u001b[1;32mpandas/_libs/index.pyx\u001b[0m in \u001b[0;36mpandas._libs.index.IndexEngine.get_loc\u001b[1;34m()\u001b[0m\n",
      "\u001b[1;32mpandas/_libs/hashtable_class_helper.pxi\u001b[0m in \u001b[0;36mpandas._libs.hashtable.PyObjectHashTable.get_item\u001b[1;34m()\u001b[0m\n",
      "\u001b[1;32mpandas/_libs/hashtable_class_helper.pxi\u001b[0m in \u001b[0;36mpandas._libs.hashtable.PyObjectHashTable.get_item\u001b[1;34m()\u001b[0m\n",
      "\u001b[1;31mKeyError\u001b[0m: 'target'"
     ]
    },
    {
     "data": {
      "image/png": "[encoded data removed]",
      "text/plain": [
       "<Figure size 504x504 with 1 Axes>"
      ]
     },
     "metadata": {
      "needs_background": "light"
     },
     "output_type": "display_data"
    }
   ],
   "source": [
    "fig = plt.figure(figsize = (7,7))\n",
    "ax = fig.add_subplot(1,1,1) \n",
    "ax.set_xlabel('Principal Component 1', fontsize = 15)\n",
    "ax.set_ylabel('Principal Component 2', fontsize = 15)\n",
    "ax.set_title('2 component PCA', fontsize = 20)\n",
    "targets = [0 , 1]\n",
    "colors = ['g', 'b']\n",
    "for target, color in zip(targets,colors):\n",
    "    indicesToKeep = finalDf['target'] == target\n",
    "    ax.scatter(finalDf.loc[indicesToKeep, 'principal component 1']\n",
    "               , finalDf.loc[indicesToKeep, 'principal component 2']\n",
    "               , c = color\n",
    "               , s = 50)\n",
    "ax.legend(targets)\n",
    "ax.grid()"
   ]
  },
  {
   "cell_type": "code",
   "execution_count": 19,
   "metadata": {},
   "outputs": [
    {
     "ename": "KeyError",
     "evalue": "'class'",
     "output_type": "error",
     "traceback": [
      "\u001b[1;31m---------------------------------------------------------------------------\u001b[0m",
      "\u001b[1;31mKeyError\u001b[0m                                  Traceback (most recent call last)",
      "\u001b[1;32m~\\Anaconda3\\lib\\site-packages\\pandas\\core\\indexes\\base.py\u001b[0m in \u001b[0;36mget_loc\u001b[1;34m(self, key, method, tolerance)\u001b[0m\n\u001b[0;32m   2656\u001b[0m             \u001b[1;32mtry\u001b[0m\u001b[1;33m:\u001b[0m\u001b[1;33m\u001b[0m\u001b[1;33m\u001b[0m\u001b[0m\n\u001b[1;32m-> 2657\u001b[1;33m                 \u001b[1;32mreturn\u001b[0m \u001b[0mself\u001b[0m\u001b[1;33m.\u001b[0m\u001b[0m_engine\u001b[0m\u001b[1;33m.\u001b[0m\u001b[0mget_loc\u001b[0m\u001b[1;33m(\u001b[0m\u001b[0mkey\u001b[0m\u001b[1;33m)\u001b[0m\u001b[1;33m\u001b[0m\u001b[1;33m\u001b[0m\u001b[0m\n\u001b[0m\u001b[0;32m   2658\u001b[0m             \u001b[1;32mexcept\u001b[0m \u001b[0mKeyError\u001b[0m\u001b[1;33m:\u001b[0m\u001b[1;33m\u001b[0m\u001b[1;33m\u001b[0m\u001b[0m\n",
      "\u001b[1;32mpandas/_libs/index.pyx\u001b[0m in \u001b[0;36mpandas._libs.index.IndexEngine.get_loc\u001b[1;34m()\u001b[0m\n",
      "\u001b[1;32mpandas/_libs/index.pyx\u001b[0m in \u001b[0;36mpandas._libs.index.IndexEngine.get_loc\u001b[1;34m()\u001b[0m\n",
      "\u001b[1;32mpandas/_libs/hashtable_class_helper.pxi\u001b[0m in \u001b[0;36mpandas._libs.hashtable.PyObjectHashTable.get_item\u001b[1;34m()\u001b[0m\n",
      "\u001b[1;32mpandas/_libs/hashtable_class_helper.pxi\u001b[0m in \u001b[0;36mpandas._libs.hashtable.PyObjectHashTable.get_item\u001b[1;34m()\u001b[0m\n",
      "\u001b[1;31mKeyError\u001b[0m: 'class'",
      "\nDuring handling of the above exception, another exception occurred:\n",
      "\u001b[1;31mKeyError\u001b[0m                                  Traceback (most recent call last)",
      "\u001b[1;32m<ipython-input-19-a479d297b200>\u001b[0m in \u001b[0;36m<module>\u001b[1;34m\u001b[0m\n\u001b[1;32m----> 1\u001b[1;33m \u001b[0mmask\u001b[0m \u001b[1;33m=\u001b[0m \u001b[1;33m(\u001b[0m\u001b[0my_\u001b[0m\u001b[1;33m[\u001b[0m\u001b[1;34m'class'\u001b[0m\u001b[1;33m]\u001b[0m \u001b[1;33m==\u001b[0m \u001b[1;36m0\u001b[0m\u001b[1;33m)\u001b[0m\u001b[1;33m\u001b[0m\u001b[1;33m\u001b[0m\u001b[0m\n\u001b[0m\u001b[0;32m      2\u001b[0m \u001b[0mclass_0\u001b[0m \u001b[1;33m=\u001b[0m \u001b[0my_\u001b[0m\u001b[1;33m.\u001b[0m\u001b[0mloc\u001b[0m\u001b[1;33m[\u001b[0m\u001b[0mmask\u001b[0m\u001b[1;33m,\u001b[0m\u001b[1;33m:\u001b[0m\u001b[1;33m]\u001b[0m\u001b[1;33m\u001b[0m\u001b[1;33m\u001b[0m\u001b[0m\n\u001b[0;32m      3\u001b[0m \u001b[0mmask\u001b[0m \u001b[1;33m=\u001b[0m \u001b[1;33m(\u001b[0m\u001b[0my_\u001b[0m\u001b[1;33m[\u001b[0m\u001b[1;34m'class'\u001b[0m\u001b[1;33m]\u001b[0m \u001b[1;33m==\u001b[0m \u001b[1;36m1\u001b[0m\u001b[1;33m)\u001b[0m\u001b[1;33m\u001b[0m\u001b[1;33m\u001b[0m\u001b[0m\n\u001b[0;32m      4\u001b[0m \u001b[0mclass_1\u001b[0m \u001b[1;33m=\u001b[0m \u001b[0my_\u001b[0m\u001b[1;33m.\u001b[0m\u001b[0mloc\u001b[0m\u001b[1;33m[\u001b[0m\u001b[0mmask\u001b[0m\u001b[1;33m,\u001b[0m\u001b[1;33m:\u001b[0m\u001b[1;33m]\u001b[0m\u001b[1;33m\u001b[0m\u001b[1;33m\u001b[0m\u001b[0m\n",
      "\u001b[1;32m~\\Anaconda3\\lib\\site-packages\\pandas\\core\\frame.py\u001b[0m in \u001b[0;36m__getitem__\u001b[1;34m(self, key)\u001b[0m\n\u001b[0;32m   2925\u001b[0m             \u001b[1;32mif\u001b[0m \u001b[0mself\u001b[0m\u001b[1;33m.\u001b[0m\u001b[0mcolumns\u001b[0m\u001b[1;33m.\u001b[0m\u001b[0mnlevels\u001b[0m \u001b[1;33m>\u001b[0m \u001b[1;36m1\u001b[0m\u001b[1;33m:\u001b[0m\u001b[1;33m\u001b[0m\u001b[1;33m\u001b[0m\u001b[0m\n\u001b[0;32m   2926\u001b[0m                 \u001b[1;32mreturn\u001b[0m \u001b[0mself\u001b[0m\u001b[1;33m.\u001b[0m\u001b[0m_getitem_multilevel\u001b[0m\u001b[1;33m(\u001b[0m\u001b[0mkey\u001b[0m\u001b[1;33m)\u001b[0m\u001b[1;33m\u001b[0m\u001b[1;33m\u001b[0m\u001b[0m\n\u001b[1;32m-> 2927\u001b[1;33m             \u001b[0mindexer\u001b[0m \u001b[1;33m=\u001b[0m \u001b[0mself\u001b[0m\u001b[1;33m.\u001b[0m\u001b[0mcolumns\u001b[0m\u001b[1;33m.\u001b[0m\u001b[0mget_loc\u001b[0m\u001b[1;33m(\u001b[0m\u001b[0mkey\u001b[0m\u001b[1;33m)\u001b[0m\u001b[1;33m\u001b[0m\u001b[1;33m\u001b[0m\u001b[0m\n\u001b[0m\u001b[0;32m   2928\u001b[0m             \u001b[1;32mif\u001b[0m \u001b[0mis_integer\u001b[0m\u001b[1;33m(\u001b[0m\u001b[0mindexer\u001b[0m\u001b[1;33m)\u001b[0m\u001b[1;33m:\u001b[0m\u001b[1;33m\u001b[0m\u001b[1;33m\u001b[0m\u001b[0m\n\u001b[0;32m   2929\u001b[0m                 \u001b[0mindexer\u001b[0m \u001b[1;33m=\u001b[0m \u001b[1;33m[\u001b[0m\u001b[0mindexer\u001b[0m\u001b[1;33m]\u001b[0m\u001b[1;33m\u001b[0m\u001b[1;33m\u001b[0m\u001b[0m\n",
      "\u001b[1;32m~\\Anaconda3\\lib\\site-packages\\pandas\\core\\indexes\\base.py\u001b[0m in \u001b[0;36mget_loc\u001b[1;34m(self, key, method, tolerance)\u001b[0m\n\u001b[0;32m   2657\u001b[0m                 \u001b[1;32mreturn\u001b[0m \u001b[0mself\u001b[0m\u001b[1;33m.\u001b[0m\u001b[0m_engine\u001b[0m\u001b[1;33m.\u001b[0m\u001b[0mget_loc\u001b[0m\u001b[1;33m(\u001b[0m\u001b[0mkey\u001b[0m\u001b[1;33m)\u001b[0m\u001b[1;33m\u001b[0m\u001b[1;33m\u001b[0m\u001b[0m\n\u001b[0;32m   2658\u001b[0m             \u001b[1;32mexcept\u001b[0m \u001b[0mKeyError\u001b[0m\u001b[1;33m:\u001b[0m\u001b[1;33m\u001b[0m\u001b[1;33m\u001b[0m\u001b[0m\n\u001b[1;32m-> 2659\u001b[1;33m                 \u001b[1;32mreturn\u001b[0m \u001b[0mself\u001b[0m\u001b[1;33m.\u001b[0m\u001b[0m_engine\u001b[0m\u001b[1;33m.\u001b[0m\u001b[0mget_loc\u001b[0m\u001b[1;33m(\u001b[0m\u001b[0mself\u001b[0m\u001b[1;33m.\u001b[0m\u001b[0m_maybe_cast_indexer\u001b[0m\u001b[1;33m(\u001b[0m\u001b[0mkey\u001b[0m\u001b[1;33m)\u001b[0m\u001b[1;33m)\u001b[0m\u001b[1;33m\u001b[0m\u001b[1;33m\u001b[0m\u001b[0m\n\u001b[0m\u001b[0;32m   2660\u001b[0m         \u001b[0mindexer\u001b[0m \u001b[1;33m=\u001b[0m \u001b[0mself\u001b[0m\u001b[1;33m.\u001b[0m\u001b[0mget_indexer\u001b[0m\u001b[1;33m(\u001b[0m\u001b[1;33m[\u001b[0m\u001b[0mkey\u001b[0m\u001b[1;33m]\u001b[0m\u001b[1;33m,\u001b[0m \u001b[0mmethod\u001b[0m\u001b[1;33m=\u001b[0m\u001b[0mmethod\u001b[0m\u001b[1;33m,\u001b[0m \u001b[0mtolerance\u001b[0m\u001b[1;33m=\u001b[0m\u001b[0mtolerance\u001b[0m\u001b[1;33m)\u001b[0m\u001b[1;33m\u001b[0m\u001b[1;33m\u001b[0m\u001b[0m\n\u001b[0;32m   2661\u001b[0m         \u001b[1;32mif\u001b[0m \u001b[0mindexer\u001b[0m\u001b[1;33m.\u001b[0m\u001b[0mndim\u001b[0m \u001b[1;33m>\u001b[0m \u001b[1;36m1\u001b[0m \u001b[1;32mor\u001b[0m \u001b[0mindexer\u001b[0m\u001b[1;33m.\u001b[0m\u001b[0msize\u001b[0m \u001b[1;33m>\u001b[0m \u001b[1;36m1\u001b[0m\u001b[1;33m:\u001b[0m\u001b[1;33m\u001b[0m\u001b[1;33m\u001b[0m\u001b[0m\n",
      "\u001b[1;32mpandas/_libs/index.pyx\u001b[0m in \u001b[0;36mpandas._libs.index.IndexEngine.get_loc\u001b[1;34m()\u001b[0m\n",
      "\u001b[1;32mpandas/_libs/index.pyx\u001b[0m in \u001b[0;36mpandas._libs.index.IndexEngine.get_loc\u001b[1;34m()\u001b[0m\n",
      "\u001b[1;32mpandas/_libs/hashtable_class_helper.pxi\u001b[0m in \u001b[0;36mpandas._libs.hashtable.PyObjectHashTable.get_item\u001b[1;34m()\u001b[0m\n",
      "\u001b[1;32mpandas/_libs/hashtable_class_helper.pxi\u001b[0m in \u001b[0;36mpandas._libs.hashtable.PyObjectHashTable.get_item\u001b[1;34m()\u001b[0m\n",
      "\u001b[1;31mKeyError\u001b[0m: 'class'"
     ]
    }
   ],
   "source": [
    "mask = (y_['class'] == 0)\n",
    "class_0 = y_.loc[mask,:]\n",
    "mask = (y_['class'] == 1)\n",
    "class_1 = y_.loc[mask,:]"
   ]
  },
  {
   "cell_type": "code",
   "execution_count": 20,
   "metadata": {},
   "outputs": [],
   "source": [
    "label = [0 , 1]\n",
    "data = [len(class_0) , len(class_1)]"
   ]
  },
  {
   "cell_type": "code",
   "execution_count": 21,
   "metadata": {},
   "outputs": [],
   "source": [
    "def plot_bar_x():\n",
    "    # this is for plotting purpose\n",
    "    index = np.arange(len(label))\n",
    "    fig = plt.figure(figsize = (6,6))\n",
    "    plt.bar(index,data)\n",
    "    plt.xlabel('class', fontsize=10)\n",
    "    plt.ylabel('No of data points', fontsize=5)\n",
    "    plt.xticks(index, label, fontsize=5, rotation=30)\n",
    "    plt.title('Data after smote')\n",
    "    plt.show()"
   ]
  },
  {
   "cell_type": "code",
   "execution_count": 22,
   "metadata": {},
   "outputs": [
    {
     "data": {
      "image/png": "[encoded data removed]",
      "text/plain": [
       "<Figure size 432x432 with 1 Axes>"
      ]
     },
     "metadata": {
      "needs_background": "light"
     },
     "output_type": "display_data"
    }
   ],
   "source": [
    "plot_bar_x()"
   ]
  },
  {
   "cell_type": "code",
   "execution_count": 23,
   "metadata": {},
   "outputs": [],
   "source": [
    "X_train, X_test, y_train, y_test = train_test_split(X, y, test_size = 0.3, random_state=0)"
   ]
  },
  {
   "cell_type": "code",
   "execution_count": 24,
   "metadata": {
    "scrolled": true
   },
   "outputs": [
    {
     "data": {
      "text/plain": [
       "((3136, 30), (1344, 30), (3136, 1), (1344, 1))"
      ]
     },
     "execution_count": 24,
     "metadata": {},
     "output_type": "execute_result"
    }
   ],
   "source": [
    "X_train.shape , X_test.shape , y_train.shape , y_test.shape"
   ]
  },
  {
   "cell_type": "code",
   "execution_count": 25,
   "metadata": {},
   "outputs": [],
   "source": [
    "y_train = y_train.values.ravel()\n",
    "y_test = y_test.values.ravel()"
   ]
  },
  {
   "cell_type": "code",
   "execution_count": 26,
   "metadata": {},
   "outputs": [
    {
     "data": {
      "text/plain": [
       "((3136,), (1344,))"
      ]
     },
     "execution_count": 26,
     "metadata": {},
     "output_type": "execute_result"
    }
   ],
   "source": [
    "y_train.shape , y_test.shape"
   ]
  },
  {
   "cell_type": "code",
   "execution_count": 27,
   "metadata": {},
   "outputs": [],
   "source": [
    "y_train = y_train.reshape(3136,1)\n",
    "y_test = y_test.reshape(1344,1)"
   ]
  },
  {
   "cell_type": "code",
   "execution_count": 28,
   "metadata": {},
   "outputs": [],
   "source": [
    "params = {\n",
    "    'max_depth': 18,\n",
    "    'objective': 'binary:logistic',  # error evaluation for multiclass training\n",
    "    'n_estimators':20,                # Number of classes \n",
    "    'tree_method':'hist',\n",
    "    'gamma':0.0001,\n",
    "    'reg_alpha':0.05,\n",
    "    'learning_rate':0.1\n",
    "    \n",
    "}"
   ]
  },
  {
   "cell_type": "code",
   "execution_count": null,
   "metadata": {},
   "outputs": [],
   "source": [
    "xg_clf = xgb.XGBClassifier(**params)\n",
    "eval_set = [(X_train, y_train), (X_test, y_test)]\n",
    "xg_clf.fit(X_train, y_train, eval_metric=[\"error\", \"logloss\"], eval_set=eval_set, verbose=False)"
   ]
  },
  {
   "cell_type": "code",
   "execution_count": null,
   "metadata": {},
   "outputs": [],
   "source": [
    "pred = xg_clf.fit(X_train, y_train).predict(X_test)\n",
    "\n",
    "print(classification_report(y_test, pred))"
   ]
  },
  {
   "cell_type": "code",
   "execution_count": null,
   "metadata": {},
   "outputs": [],
   "source": [
    "roc_auc_score(y_test, pred)"
   ]
  },
  {
   "cell_type": "code",
   "execution_count": null,
   "metadata": {},
   "outputs": [],
   "source": [
    "# Function to plot Confusion Matrix (to be used later).\n",
    "def plot_confusion_matrix(cm, classes,\n",
    "                          normalize=False,\n",
    "                          title='Confusion matrix',\n",
    "                          cmap=plt.cm.Blues):\n",
    "    \"\"\"\n",
    "    This function prints and plots the confusion matrix.\n",
    "    Normalization can be applied by setting `normalize=True`.\n",
    "    \"\"\"\n",
    "    if normalize:\n",
    "        cm = cm.astype('float') / cm.sum(axis=1)[:, np.newaxis]\n",
    "        print(\"Normalized confusion matrix\")\n",
    "    else:\n",
    "        print('Confusion matrix, without normalization')\n",
    "\n",
    "    print(cm)\n",
    "\n",
    "    plt.imshow(cm, interpolation='nearest', cmap=cmap)\n",
    "    plt.title(title)\n",
    "    plt.colorbar()\n",
    "    tick_marks = np.arange(len(classes))\n",
    "    plt.xticks(tick_marks, classes, rotation=45)\n",
    "    plt.yticks(tick_marks, classes)\n",
    "\n",
    "    fmt = '.2f' if normalize else 'd'\n",
    "    thresh = cm.max() / 2.\n",
    "    for i, j in itertools.product(range(cm.shape[0]), range(cm.shape[1])):\n",
    "        plt.text(j, i, format(cm[i, j], fmt),\n",
    "                 horizontalalignment=\"center\",\n",
    "                 color=\"white\" if cm[i, j] > thresh else \"black\")\n",
    "\n",
    "    plt.ylabel('True label')\n",
    "    plt.xlabel('Predicted label')\n",
    "    plt.tight_layout()"
   ]
  },
  {
   "cell_type": "code",
   "execution_count": null,
   "metadata": {},
   "outputs": [],
   "source": [
    "# Train and Test Accuracy\n",
    "from sklearn.metrics import accuracy_score\n",
    "print (\"Test Accuracy  :: \", accuracy_score(y_test, pred ))"
   ]
  },
  {
   "cell_type": "code",
   "execution_count": null,
   "metadata": {},
   "outputs": [],
   "source": [
    "from sklearn.metrics import confusion_matrix\n",
    "import itertools\n",
    "cnf_matrix=confusion_matrix(y_test,pred.round())\n",
    "plot_confusion_matrix(cnf_matrix , classes=[0,1])\n",
    "plt.show()"
   ]
  },
  {
   "cell_type": "code",
   "execution_count": null,
   "metadata": {},
   "outputs": [],
   "source": [
    "import seaborn as sns\n",
    "sensitivity = cnf_matrix[0,0]/(cnf_matrix[0,0]+cnf_matrix[0,1])\n",
    "print('Sensitivity : ', sensitivity )\n",
    "\n",
    "specificity = cnf_matrix[1,1]/(cnf_matrix[1,0]+cnf_matrix[1,1])\n",
    "print('Specificity : ', specificity)\n",
    "\n",
    "sns.heatmap(cnf_matrix, center=True)\n",
    "plt.show()"
   ]
  },
  {
   "cell_type": "code",
   "execution_count": null,
   "metadata": {},
   "outputs": [],
   "source": [
    "PPV = cnf_matrix[0,0]/(cnf_matrix[0,0]+cnf_matrix[1,0])\n",
    "print('Positive Predictive Value : ', PPV )"
   ]
  },
  {
   "cell_type": "code",
   "execution_count": null,
   "metadata": {},
   "outputs": [],
   "source": [
    "NPV = cnf_matrix[1,1]/(cnf_matrix[1,1]+cnf_matrix[0,1])\n",
    "print('Negative Predictive Value : ', NPV )"
   ]
  },
  {
   "cell_type": "code",
   "execution_count": null,
   "metadata": {},
   "outputs": [],
   "source": [
    "FPR = cnf_matrix[1,0]/(cnf_matrix[1,0]+cnf_matrix[1,1])\n",
    "print('False Positive Rate : ', FPR )"
   ]
  },
  {
   "cell_type": "code",
   "execution_count": null,
   "metadata": {},
   "outputs": [],
   "source": [
    "FNR = cnf_matrix[0,1]/(cnf_matrix[0,1]+cnf_matrix[0,0])\n",
    "print('False Negative Rate : ', FNR )"
   ]
  },
  {
   "cell_type": "code",
   "execution_count": null,
   "metadata": {},
   "outputs": [],
   "source": [
    "FDR = cnf_matrix[1,0]/(cnf_matrix[1,0]+cnf_matrix[0,0])\n",
    "print('False Discovery Rate : ', FDR )"
   ]
  },
  {
   "cell_type": "code",
   "execution_count": null,
   "metadata": {},
   "outputs": [],
   "source": [
    "FOR = cnf_matrix[0,1]/(cnf_matrix[0,1]+cnf_matrix[1,1])\n",
    "print('False Omission Rate : ', FOR )"
   ]
  },
  {
   "cell_type": "code",
   "execution_count": null,
   "metadata": {},
   "outputs": [],
   "source": [
    "acc= (cnf_matrix[0,0]+cnf_matrix[1,1])/(cnf_matrix[0,0]+cnf_matrix[0,1]+cnf_matrix[1,0]+cnf_matrix[1,1])\n",
    "print('Accuracy : ', acc )"
   ]
  },
  {
   "cell_type": "code",
   "execution_count": null,
   "metadata": {},
   "outputs": [],
   "source": [
    "Recall = cnf_matrix[0,0]/(cnf_matrix[0,0]+cnf_matrix[0,1])\n",
    "fs= 2*((PPV*Recall)/(PPV+Recall))\n",
    "print('F1 Score : ',fs)"
   ]
  },
  {
   "cell_type": "code",
   "execution_count": null,
   "metadata": {},
   "outputs": [],
   "source": [
    "PLR = (Recall/FPR)\n",
    "print('Positive Likelihood Ratio : ', PLR )"
   ]
  },
  {
   "cell_type": "code",
   "execution_count": null,
   "metadata": {},
   "outputs": [],
   "source": [
    "sp= (cnf_matrix[1,1]/(cnf_matrix[1,0]+cnf_matrix[1,1]))\n",
    "NLR=(FNR/sp)\n",
    "print('Negative Likelihood Ratio : ', NLR )"
   ]
  },
  {
   "cell_type": "code",
   "execution_count": null,
   "metadata": {},
   "outputs": [],
   "source": [
    "DOR = (PLR/NLR)\n",
    "print('Diagnostic Odds Ratio : ', DOR )"
   ]
  },
  {
   "cell_type": "code",
   "execution_count": null,
   "metadata": {},
   "outputs": [],
   "source": [
    "pre = (cnf_matrix[0,0]+cnf_matrix[0,1])/(cnf_matrix[1,0]+cnf_matrix[1,1]+cnf_matrix[0,0]+cnf_matrix[0,1])\n",
    "print ('Prevalence : ', pre)"
   ]
  },
  {
   "cell_type": "code",
   "execution_count": null,
   "metadata": {},
   "outputs": [],
   "source": [
    "from sklearn.metrics import roc_curve\n",
    "from matplotlib import pyplot\n",
    "# calculate roc curve\n",
    "fpr, tpr, thresholds = roc_curve(y_test, pred.round())\n",
    "# plot no skill\n",
    "pyplot.plot([0, 1], [0, 1], linestyle='--')\n",
    "# plot the roc curve for the model\n",
    "pyplot.plot(fpr, tpr, marker='.')\n",
    "# show the plot\n",
    "pyplot.show()"
   ]
  },
  {
   "cell_type": "code",
   "execution_count": null,
   "metadata": {},
   "outputs": [],
   "source": [
    "# retrieve performance metrics\n",
    "results = xg_clf.evals_result()\n",
    "epochs = len(results['validation_0']['error'])\n",
    "x_axis = range(0, epochs)"
   ]
  },
  {
   "cell_type": "code",
   "execution_count": null,
   "metadata": {},
   "outputs": [],
   "source": [
    "predictions = [round(value) for value in pred]"
   ]
  },
  {
   "cell_type": "code",
   "execution_count": null,
   "metadata": {},
   "outputs": [],
   "source": [
    "# plot log loss\n",
    "fig, ax = pyplot.subplots(figsize=(9,9))\n",
    "ax.plot(x_axis, results['validation_0']['logloss'], label='Train')\n",
    "ax.plot(x_axis, results['validation_1']['logloss'], label='Test')\n",
    "ax.legend()\n",
    " \n",
    "pyplot.ylabel('Log Loss')\n",
    "pyplot.title('XGBoost Log Loss')\n",
    "pyplot.show()\n",
    " "
   ]
  },
  {
   "cell_type": "code",
   "execution_count": null,
   "metadata": {},
   "outputs": [],
   "source": [
    " # plot classification error\n",
    "fig, ax = pyplot.subplots(figsize=(9,9))\n",
    "ax.plot(x_axis, results['validation_0']['error'], label='Train')\n",
    "ax.plot(x_axis, results['validation_1']['error'], label='Test')\n",
    "ax.legend()\n",
    "    \n",
    "pyplot.ylabel('Classification Error')\n",
    "pyplot.title('XGBoost Classification Error')\n",
    "pyplot.show()"
   ]
  }
 ],
 "metadata": {
  "kernelspec": {
   "display_name": "Python 3",
   "language": "python",
   "name": "python3"
  },
  "language_info": {
   "codemirror_mode": {
    "name": "ipython",
    "version": 3
   },
   "file_extension": ".py",
   "mimetype": "text/x-python",
   "name": "python",
   "nbconvert_exporter": "python",
   "pygments_lexer": "ipython3",
   "version": "3.7.3"
  }
 },
 "nbformat": 4,
 "nbformat_minor": 2
}
